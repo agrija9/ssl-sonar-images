{
 "cells": [
  {
   "cell_type": "code",
   "execution_count": 5,
   "metadata": {},
   "outputs": [],
   "source": [
    "import h5py\n",
    "import numpy as np\n",
    "import sklearn\n",
    "from sklearn.svm import SVC"
   ]
  },
  {
   "cell_type": "code",
   "execution_count": 6,
   "metadata": {},
   "outputs": [],
   "source": [
    "# utilities\n",
    "def flatten(x):\n",
    "    return x.reshape((x.shape[0], -1))\n",
    "\n",
    "def classSampling(X, y, samplesPerClass, numberOfClasses):\n",
    "    X_ret = np.zeros((samplesPerClass * numberOfClasses, X.shape[1]), dtype = np.float32)\n",
    "    y_ret = np.zeros((samplesPerClass * numberOfClasses), dtype = np.uint8)\n",
    "    count = 0\n",
    "\n",
    "    for classIdx in range(numberOfClasses):\n",
    "        indices = np.where(y == classIdx)[0]\n",
    "\n",
    "        #if len(indices) < samplesPerClass:\n",
    "        #    raise IndexError(\"Not enough samples for class {} to produce {} samples per class. Only {} class samples available\".format(classIdx, samplesPerClass, len(indices)))\n",
    "\n",
    "        doResample = len(indices) < samplesPerClass\n",
    "\n",
    "        chosenIndices = np.random.choice(indices, samplesPerClass, replace = doResample)\n",
    "\n",
    "        for ci in chosenIndices:\n",
    "            X_ret[count] = X[ci]\n",
    "            y_ret[count] = y[ci]\n",
    "\n",
    "            count += 1\n",
    "\n",
    "    return X_ret, y_ret"
   ]
  },
  {
   "cell_type": "code",
   "execution_count": 7,
   "metadata": {},
   "outputs": [],
   "source": [
    "# main params\n",
    "NUM_CLASSES_WATERTANK = 11\n",
    "NUM_CLASSES_TURNEDTABLE = 12\n",
    "\n",
    "SAMPLES_PER_CLASS = [1, 5, 10, 20, 30, 40, 50]\n",
    "TRIALS = 10"
   ]
  },
  {
   "cell_type": "code",
   "execution_count": null,
   "metadata": {},
   "outputs": [],
   "source": []
  },
  {
   "cell_type": "code",
   "execution_count": null,
   "metadata": {},
   "outputs": [],
   "source": []
  },
  {
   "cell_type": "markdown",
   "metadata": {},
   "source": [
    "## SVM Classifier on Turnedtable Watertank (Dataset 2)"
   ]
  },
  {
   "cell_type": "code",
   "execution_count": 27,
   "metadata": {},
   "outputs": [],
   "source": [
    "# Turnedtable Watertank Data\n",
    "class SonarTurnedTableSelfSupervised(object):\n",
    "    def __init__(self, file_path):\n",
    "        self.file_path = file_path\n",
    "\n",
    "    def _normalize_images(self, images):\n",
    "\n",
    "        \"\"\"\n",
    "        \"\"\"\n",
    "        # test = sample.reshape([-1, 1, 63, 63])\n",
    "        # test = test.transpose([0, 2, 3, 1])\n",
    "        return [element/255.0 for element in images]\n",
    "\n",
    "    def get_sonar_data(self):\n",
    "\n",
    "        \"\"\"\n",
    "        Reads from HDF5 file containing sonar data.\n",
    "        Returns list of np arrays.\n",
    "        Resized to 96x96 dimensions.\n",
    "        \"\"\"\n",
    "        with h5py.File(self.file_path, \"r\") as f:\n",
    "            # list all groups\n",
    "            print(\"hdf5 dataset keys: %s\" % f.keys())\n",
    "\n",
    "            # get the data\n",
    "            x_train = f[\"x_train\"][...].astype(np.float32)\n",
    "            x_val = f[\"x_val\"][...].astype(np.float32)\n",
    "            x_test = f[\"x_test\"][...].astype(np.float32)\n",
    "\n",
    "            print(\"[INFO] Original data dimensions\")\n",
    "            print(\"Train\", len(x_train))\n",
    "            print(\"Val\", len(x_val))\n",
    "            print(\"Test\", len(x_test))\n",
    "\n",
    "        return x_train, x_val, x_test\n",
    "\n",
    "    def generate_rotations(self, images):\n",
    "        \"\"\"\n",
    "        Rotates images and stores labels for each rotation.\n",
    "        0: 0 degrees\n",
    "        1: 90 degrees\n",
    "        2: 180 degrees\n",
    "        3: 270 degrees\n",
    "        This is the core component of RotNet.\n",
    "        \"\"\"\n",
    "        images_rotated = []\n",
    "        labels_rotated = []\n",
    "        for num_r in [0, 1, 2, 3]:\n",
    "            for i in range(len(images)):\n",
    "                r_im = np.rot90(images[i], k=num_r)\n",
    "                images_rotated.append(r_im)\n",
    "                labels_rotated.append(num_r)\n",
    "\n",
    "        # return np.concatenate(images_rotated), np.array(labels_rotated)\n",
    "        return np.asarray(images_rotated), np.array(labels_rotated)\n"
   ]
  },
  {
   "cell_type": "code",
   "execution_count": 29,
   "metadata": {},
   "outputs": [
    {
     "name": "stdout",
     "output_type": "stream",
     "text": [
      "[INFO] Retrieving Sonar Turned Table Supervised Data\n",
      "hdf5 dataset keys: <KeysViewHDF5 ['x_test', 'x_train', 'y_test', 'y_train']>\n",
      "[INFO] Data dimensions\n",
      "Train 1505\n",
      "Test 645\n"
     ]
    }
   ],
   "source": [
    "# Path to file\n",
    "turnedtable_file_path = \"../../../../../datasets/sonar_turntable_dataset_2/marine-debris-turntable-classification-object_classes-platform-96x96.hdf5\"\n",
    "\n",
    "# Load data\n",
    "dataset_object = SonarTurnedTableSelfSupervised(turnedtable_file_path)\n",
    "orig_x_train, orig_x_val, orig_x_test = dataset_object.get_sonar_data()\n",
    "\n",
    "x_train, y_train = dataset_object.generate_rotations(orig_x_train)\n",
    "x_val, y_val = dataset_object.generate_rotations(orig_x_val)\n",
    "x_test, y_val = dataset_object.generate_rotations(orig_x_test)"
   ]
  },
  {
   "cell_type": "code",
   "execution_count": 31,
   "metadata": {},
   "outputs": [
    {
     "data": {
      "text/plain": [
       "(1505, 96, 96, 1)"
      ]
     },
     "execution_count": 31,
     "metadata": {},
     "output_type": "execute_result"
    }
   ],
   "source": [
    "print(x_train.shape)\n",
    "print(x_test.shape)"
   ]
  },
  {
   "cell_type": "code",
   "execution_count": 32,
   "metadata": {},
   "outputs": [
    {
     "name": "stdout",
     "output_type": "stream",
     "text": [
      "(1505, 9216)\n",
      "(645, 9216)\n"
     ]
    }
   ],
   "source": [
    "# Flatten train & test data for SVM\n",
    "x_train = flatten(x_train)\n",
    "x_test = flatten(x_test)\n",
    "\n",
    "print(x_train.shape)\n",
    "print(x_test.shape)"
   ]
  },
  {
   "cell_type": "markdown",
   "metadata": {},
   "source": [
    "### Pretrainig setup: classification full turnedtable test set (your pipeline)"
   ]
  },
  {
   "cell_type": "code",
   "execution_count": 33,
   "metadata": {},
   "outputs": [
    {
     "name": "stdout",
     "output_type": "stream",
     "text": [
      "Full train set accuracy: 1.000\n",
      "Full test set accuracy: 0.974\n",
      "\n"
     ]
    }
   ],
   "source": [
    "svm = SVC(C=1.0, decision_function_shape = 'ovo', kernel=\"linear\")\n",
    "# svm.fit(x_sample, y_sample)\n",
    "svm.fit(x_train, y_train)\n",
    "\n",
    "train_acc = svm.score(x_train, y_train)\n",
    "test_acc = svm.score(x_test, y_test)\n",
    "\n",
    "print(\"Full train set accuracy: {:.3f}\".format(train_acc))\n",
    "print(\"Full test set accuracy: {:.3f}\".format(test_acc))\n",
    "print()"
   ]
  },
  {
   "cell_type": "code",
   "execution_count": 36,
   "metadata": {},
   "outputs": [],
   "source": [
    "# value above is the same one as matias one!"
   ]
  },
  {
   "cell_type": "markdown",
   "metadata": {},
   "source": [
    "## SVM Classifier on Marine Debris Watertank (Dataset 1)"
   ]
  },
  {
   "cell_type": "code",
   "execution_count": 8,
   "metadata": {},
   "outputs": [],
   "source": [
    "# Watertank Data\n",
    "class SonarDebrisSelfSupervised(object):\n",
    "    def __init__(self, data_dir):\n",
    "        self.data_dir = data_dir\n",
    "\n",
    "    def _normalize_images(self, images):\n",
    "\n",
    "        \"\"\"\n",
    "        \"\"\"\n",
    "        # test = sample.reshape([-1, 1, 63, 63])\n",
    "        # test = test.transpose([0, 2, 3, 1])\n",
    "        return [element/255.0 for element in images]\n",
    "\n",
    "    def get_sonar_data(self):\n",
    "\n",
    "        \"\"\"\n",
    "        Reads from HDF5 file containing sonar data.\n",
    "        Returns list of np arrays.\n",
    "        Resized to 96x96 dimensions.\n",
    "        \"\"\"\n",
    "        with h5py.File(self.data_dir, \"r\") as f:\n",
    "            # list all groups\n",
    "            print(\"hdf5 dataset keys: %s\" % f.keys())\n",
    "\n",
    "            # get the data\n",
    "            x_train = f[\"x_train\"][...].astype(np.float32)\n",
    "            x_val = f[\"x_val\"][...].astype(np.float32)\n",
    "            x_test = f[\"x_test\"][...].astype(np.float32)\n",
    "\n",
    "            print(\"[INFO] Original data dimensions\")\n",
    "            print(\"Train\", len(x_train))\n",
    "            print(\"Val\", len(x_val))\n",
    "            print(\"Test\", len(x_test))\n",
    "\n",
    "        return x_train, x_val, x_test\n",
    "\n",
    "    def generate_rotations(self, images):\n",
    "        \"\"\"\n",
    "        Rotates images and stores labels for each rotation.\n",
    "        0: 0 degrees\n",
    "        1: 90 degrees\n",
    "        2: 180 degrees\n",
    "        3: 270 degrees\n",
    "        This is the core component of RotNet.\n",
    "        \"\"\"\n",
    "        images_rotated = []\n",
    "        labels_rotated = []\n",
    "        for num_r in [0, 1, 2, 3]:\n",
    "            for i in range(len(images)):\n",
    "                r_im = np.rot90(images[i], k=num_r)\n",
    "                images_rotated.append(r_im)\n",
    "                labels_rotated.append(num_r)\n",
    "\n",
    "        # return np.concatenate(images_rotated), np.array(labels_rotated)\n",
    "        return np.asarray(images_rotated), np.array(labels_rotated)"
   ]
  },
  {
   "cell_type": "code",
   "execution_count": 9,
   "metadata": {},
   "outputs": [
    {
     "name": "stdout",
     "output_type": "stream",
     "text": [
      "hdf5 dataset keys: <KeysViewHDF5 ['class_names', 'x_test', 'x_train', 'x_val', 'y_test', 'y_train', 'y_val']>\n",
      "[INFO] Original data dimensions\n",
      "Train 1838\n",
      "Val 394\n",
      "Test 395\n"
     ]
    }
   ],
   "source": [
    "# Path to file\n",
    "watertank_file_path = \"../../../../../datasets/sonar_debris_dataset_1/marine-debris-watertank-release/marine-debris-watertank-classification-96x96.hdf5\"\n",
    "\n",
    "# Load data\n",
    "dataset_object = SonarDebrisSelfSupervised(watertank_file_path)\n",
    "orig_x_train, orig_x_val, orig_x_test = dataset_object.get_sonar_data()"
   ]
  },
  {
   "cell_type": "code",
   "execution_count": 10,
   "metadata": {},
   "outputs": [],
   "source": [
    "x_train, y_train = dataset_object.generate_rotations(orig_x_train)\n",
    "x_val, y_val = dataset_object.generate_rotations(orig_x_val)\n",
    "x_test, y_test = dataset_object.generate_rotations(orig_x_test)"
   ]
  },
  {
   "cell_type": "code",
   "execution_count": 11,
   "metadata": {},
   "outputs": [
    {
     "name": "stdout",
     "output_type": "stream",
     "text": [
      "(7352, 96, 96, 1)\n",
      "(1580, 96, 96, 1)\n"
     ]
    }
   ],
   "source": [
    "print(x_train.shape)\n",
    "print(x_test.shape)"
   ]
  },
  {
   "cell_type": "code",
   "execution_count": 12,
   "metadata": {},
   "outputs": [],
   "source": [
    "# Flatten train & test data for SVM\n",
    "x_train = flatten(x_train)\n",
    "x_test = flatten(x_test)"
   ]
  },
  {
   "cell_type": "code",
   "execution_count": 13,
   "metadata": {},
   "outputs": [
    {
     "data": {
      "text/plain": [
       "(7352, 9216)"
      ]
     },
     "execution_count": 13,
     "metadata": {},
     "output_type": "execute_result"
    }
   ],
   "source": [
    "x_train.shape"
   ]
  },
  {
   "cell_type": "code",
   "execution_count": 14,
   "metadata": {},
   "outputs": [
    {
     "data": {
      "text/plain": [
       "(1580, 9216)"
      ]
     },
     "execution_count": 14,
     "metadata": {},
     "output_type": "execute_result"
    }
   ],
   "source": [
    "x_test.shape"
   ]
  },
  {
   "cell_type": "code",
   "execution_count": 25,
   "metadata": {},
   "outputs": [
    {
     "name": "stdout",
     "output_type": "stream",
     "text": [
      "[0 1 2 3]\n"
     ]
    }
   ],
   "source": [
    "print(np.unique(y_train))"
   ]
  },
  {
   "cell_type": "markdown",
   "metadata": {},
   "source": [
    "### Pretraining setup: classification full test set (your pipeline)"
   ]
  },
  {
   "cell_type": "code",
   "execution_count": 26,
   "metadata": {},
   "outputs": [
    {
     "data": {
      "text/plain": [
       "SVC(decision_function_shape='ovo', kernel='linear')"
      ]
     },
     "execution_count": 26,
     "metadata": {},
     "output_type": "execute_result"
    }
   ],
   "source": [
    "# Run full test set SVM classification (your pipeline)\n",
    "\n",
    "# x_sample, y_sample = classSampling(x_train, y_train, spc, NUM_CLASSES)\n",
    "svm = SVC(C=1.0, decision_function_shape = 'ovo', kernel=\"linear\")\n",
    "svm.fit(x_train, y_train)\n"
   ]
  },
  {
   "cell_type": "code",
   "execution_count": 27,
   "metadata": {},
   "outputs": [
    {
     "name": "stdout",
     "output_type": "stream",
     "text": [
      "Full train set accuracy: 1.000\n",
      "Full test set accuracy: 0.764\n",
      "\n"
     ]
    }
   ],
   "source": [
    "train_acc = svm.score(x_train, y_train)\n",
    "test_acc = svm.score(x_test, y_test)\n",
    "\n",
    "print(\"Full train set accuracy: {:.3f}\".format(train_acc))\n",
    "print(\"Full test set accuracy: {:.3f}\".format(test_acc))\n",
    "print()"
   ]
  },
  {
   "cell_type": "code",
   "execution_count": 28,
   "metadata": {},
   "outputs": [
    {
     "data": {
      "text/plain": [
       "1580"
      ]
     },
     "execution_count": 28,
     "metadata": {},
     "output_type": "execute_result"
    }
   ],
   "source": [
    "len(y_test)"
   ]
  },
  {
   "cell_type": "code",
   "execution_count": null,
   "metadata": {},
   "outputs": [],
   "source": []
  },
  {
   "cell_type": "code",
   "execution_count": null,
   "metadata": {},
   "outputs": [],
   "source": []
  }
 ],
 "metadata": {
  "kernelspec": {
   "display_name": "Python [conda env:rotnet] *",
   "language": "python",
   "name": "conda-env-rotnet-py"
  },
  "language_info": {
   "codemirror_mode": {
    "name": "ipython",
    "version": 3
   },
   "file_extension": ".py",
   "mimetype": "text/x-python",
   "name": "python",
   "nbconvert_exporter": "python",
   "pygments_lexer": "ipython3",
   "version": "3.6.13"
  }
 },
 "nbformat": 4,
 "nbformat_minor": 4
}
